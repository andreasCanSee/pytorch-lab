{
 "cells": [
  {
   "cell_type": "markdown",
   "metadata": {},
   "source": [
    "# Einrichtung von PyTorch\n",
    "\n",
    "Wie in der offiziellen [Installationanleitung](https://pytorch.org/get-started/locally/) empfohlen, verwenden wir in diesem Projekt **Anaconda** (anstelle von **pip**) als Paketmanager.\n",
    "\n",
    "Nach dem Download und der Installation von [Anaconda](https://www.anaconda.com/download) kannst du via \n",
    "\n",
    "```\n",
    "conda create -n mypytorchenv python=3.10\n",
    "```\n",
    "eine neue Umgebung anlegen und diese per\n",
    "\n",
    "```\n",
    "conda activate mypytorchenv\n",
    "```\n",
    "aktivieren.\n",
    "\n",
    "In der aktivierten Umgebung installierst du dann **PyTorch** per\n",
    "\n",
    "```\n",
    "conda install pytorch torchvision -c pytorch\n",
    "```\n"
   ]
  },
  {
   "cell_type": "code",
   "execution_count": 2,
   "metadata": {},
   "outputs": [
    {
     "name": "stdout",
     "output_type": "stream",
     "text": [
      "tensor([[0.8967, 0.7542, 0.5395],\n",
      "        [0.5279, 0.1626, 0.5395],\n",
      "        [0.6487, 0.8797, 0.9801],\n",
      "        [0.8292, 0.7064, 0.4560],\n",
      "        [0.4537, 0.8894, 0.0675]])\n"
     ]
    }
   ],
   "source": [
    "import torch\n",
    "\n",
    "x = torch.rand(5, 3)\n",
    "\n",
    "print(x)"
   ]
  },
  {
   "cell_type": "markdown",
   "metadata": {},
   "source": [
    "Die Abhängigkeiten des Projektes sicherst du am besten in einer `environment.yaml` - Datei via\n",
    "\n",
    "```\n",
    "conda env export --no-builds > environment.yml\n",
    "```\n",
    "\n",
    "Mit dem Kommando\n",
    "\n",
    "```\n",
    "conda env create -f environment.yml\n",
    "```\n",
    "\n",
    "kannst du eine Umgebung mit den spezifizierten Abhängigkeiten basierend auf einer `environment.yaml` erzeugen (auch der Name wird darin definiert)."
   ]
  }
 ],
 "metadata": {
  "kernelspec": {
   "display_name": "mypytorchenv",
   "language": "python",
   "name": "python3"
  },
  "language_info": {
   "codemirror_mode": {
    "name": "ipython",
    "version": 3
   },
   "file_extension": ".py",
   "mimetype": "text/x-python",
   "name": "python",
   "nbconvert_exporter": "python",
   "pygments_lexer": "ipython3",
   "version": "3.10.14"
  }
 },
 "nbformat": 4,
 "nbformat_minor": 2
}
